{
 "cells": [
  {
   "cell_type": "markdown",
   "metadata": {},
   "source": [
    "Inference one image with several different models"
   ]
  },
  {
   "cell_type": "code",
   "execution_count": null,
   "metadata": {},
   "outputs": [],
   "source": [
    "# Imports\n",
    "from PIL import Image\n",
    "import jittor as jt\n",
    "from jittor import init\n",
    "from jittor import nn\n",
    "\n",
    "import sys\n",
    "sys.path.insert(0, \"../\")\n",
    "from models.birefnet.birefnet import BiRefNet\n",
    "from models.udun.udun import UDUN\n",
    "from models.isnet.isnet import ISNet\n",
    "\n",
    "\n",
    "# Load Model\n",
    "# Loading model and weights from local disk:\n",
    "\n",
    "from utils import check_state_dict\n",
    "\n",
    "models = ['BiRefNet', 'UDUN', 'ISNet']\n",
    "\n",
    "for model_name in models:\n",
    "    if model_name == 'BiRefNet':\n",
    "        birefnet = BiRefNet(bb_pretrained=False)\n",
    "        state_dict = jt.load('')\n",
    "        state_dict = check_state_dict(state_dict)\n",
    "        birefnet.load_state_dict(state_dict)\n",
    "        birefnet.eval()\n",
    "        print('BiRefNet is ready to use.')\n",
    "    elif model_name == 'UDUN':\n",
    "        udun = UDUN(bb_pretrained=False)\n",
    "        udun.load_state_dict(jt.load(''))\n",
    "        udun.eval()\n",
    "        print('UDUN is ready to use.')\n",
    "    elif model_name == 'ISNet':\n",
    "        isnet = ISNet()\n",
    "        isnet.load_state_dict(jt.load(''))\n",
    "        isnet.eval()\n",
    "        print('ISNet is ready to use.')\n",
    "\n",
    "# Input Data\n",
    "transform_image = jt.transforms.Compose([\n",
    "    jt.transforms.Resize((1024, 1024)),\n",
    "    jt.transforms.ToTensor(),\n",
    "    jt.transforms.Normalize([0.485, 0.456, 0.406], [0.229, 0.224, 0.225])\n",
    "])"
   ]
  },
  {
   "cell_type": "code",
   "execution_count": null,
   "metadata": {},
   "outputs": [],
   "source": [
    "import os\n",
    "from glob import glob\n",
    "\n",
    "src_dir = 'image_demo'\n",
    "image_paths = glob(os.path.join(src_dir, '*'))\n",
    "dst_dir = 'pred_demo'\n",
    "os.makedirs(dst_dir, exist_ok=True)\n",
    "for image_path in image_paths:\n",
    "    print('Processing {} ...'.format(image_path))\n",
    "    image = Image.open(image_path)\n",
    "    input_images = transform_image(image).unsqueeze(0)\n",
    "\n",
    "    # Prediction\n",
    "    for model_name in models:\n",
    "        if model_name == 'BiRefNet':\n",
    "            preds = birefnet(input_images)[-1].sigmoid()\n",
    "            pred = preds[0].squeeze()\n",
    "            # Show Results\n",
    "            pred_pil = jt.transforms.ToPILImage()(pred)\n",
    "            pred_pil.resize(image.size).save(image_path.replace(src_dir, dst_dir))\n",
    "        elif model_name == 'UDUN':\n",
    "            scaled_preds = udun(input_images)[2].sigmoid()\n",
    "            \n",
    "    "
   ]
  }
 ],
 "metadata": {
  "language_info": {
   "name": "python"
  }
 },
 "nbformat": 4,
 "nbformat_minor": 2
}
