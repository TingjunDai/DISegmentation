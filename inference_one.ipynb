{
 "cells": [
  {
   "cell_type": "markdown",
   "metadata": {},
   "source": [
    "Inference one image with several different models"
   ]
  },
  {
   "cell_type": "code",
   "execution_count": 4,
   "metadata": {},
   "outputs": [
    {
     "name": "stdout",
     "output_type": "stream",
     "text": [
      "MVANet is ready to use.\n"
     ]
    }
   ],
   "source": [
    "# Imports\n",
    "from PIL import Image\n",
    "import jittor as jt\n",
    "from jittor import init\n",
    "from jittor import nn\n",
    "\n",
    "import sys\n",
    "from models.birefnet.birefnet import BiRefNet\n",
    "from models.udun.udun import UDUN\n",
    "from models.isnet.isnet import ISNet\n",
    "from models.mvanet.mvanet import MVANet\n",
    "from config import Config\n",
    "from utils import check_state_dict\n",
    "\n",
    "# Load Model\n",
    "# Loading model and weights from local disk:\n",
    "\n",
    "\n",
    "models = ['UDUN', 'ISNet' , 'MVANet', 'BiRefNet'][2:3] # select models to run\n",
    "weights = {\n",
    "    'BiRefNet': 'ckpt/BiRefNet/epoch_500.pth',\n",
    "    'UDUN': 'ckpt/UDUN/udun-trained-R50.pth',\n",
    "    'ISNet': 'ckpt/ISNet/isnet.pth',\n",
    "    'MVANet': 'ckpt/MVANet/Model_80.pth',\n",
    "}\n",
    "config = Config()\n",
    "\n",
    "jt.flags.use_cuda = 1\n",
    "\n",
    "for model_name in models:\n",
    "    if model_name == 'BiRefNet':\n",
    "        birefnet = BiRefNet(bb_pretrained=False)\n",
    "        state_dict = jt.load(weights['BiRefNet'])\n",
    "        state_dict = check_state_dict(state_dict)\n",
    "        birefnet.load_state_dict(state_dict)\n",
    "        birefnet.eval()\n",
    "        print('BiRefNet is ready to use.')\n",
    "    elif model_name == 'UDUN':\n",
    "        udun = UDUN(bb_pretrained=False)\n",
    "        state_dict = jt.load(weights['UDUN'])\n",
    "        model_dict = udun.state_dict()\n",
    "        pretrained_dict = {k: v for k, v in state_dict.items() if k in model_dict}\n",
    "        model_dict.update(pretrained_dict)\n",
    "        udun.load_state_dict(model_dict)\n",
    "        udun.eval()\n",
    "        print('UDUN is ready to use.')\n",
    "    elif model_name == 'ISNet':\n",
    "        isnet = ISNet()\n",
    "        state_dict = jt.load(weights['ISNet'])\n",
    "        model_dict = isnet.state_dict()\n",
    "        pretrained_dict = {k: v for k, v in state_dict.items() if k in model_dict}\n",
    "        model_dict.update(pretrained_dict)\n",
    "        isnet.load_state_dict(model_dict)\n",
    "        isnet.eval()\n",
    "        print('ISNet is ready to use.')\n",
    "    elif model_name == 'MVANet':\n",
    "        mvanet = MVANet(bb_pretrained=False)\n",
    "        state_dict = jt.load(weights['MVANet'])\n",
    "        model_dict = mvanet.state_dict()\n",
    "        pretrained_dict = {k: v for k, v in state_dict.items() if k in model_dict}\n",
    "        model_dict.update(pretrained_dict)\n",
    "        mvanet.load_state_dict(model_dict)\n",
    "        mvanet.eval()\n",
    "        print('MVANet is ready to use.')\n",
    "        \n",
    "\n",
    "# Input Data\n",
    "mvanet_image = jt.transform.Compose([\n",
    "    jt.transform.Resize(config.size),\n",
    "    jt.transform.ImageNormalize([0.485, 0.456, 0.406], [0.229, 0.224, 0.225]),\n",
    "    jt.transform.ToTensor()\n",
    "])\n",
    "\n",
    "isnet_image = jt.transform.Compose([\n",
    "    jt.transform.Resize(config.size),\n",
    "    jt.transform.ToTensor(),\n",
    "    jt.transform.ImageNormalize([0.5, 0.5, 0.5], [1, 1, 1])\n",
    "])\n",
    "\n",
    "udun_image = jt.transform.Compose([\n",
    "    jt.transform.Resize(config.size),\n",
    "    jt.transform.ImageNormalize([124.55 / 255.0, 118.90 / 255.0, 102.94 / 255.0], [56.77 / 255.0, 55.97 / 255.0, 57.50 / 255.0]),\n",
    "    jt.transform.ToTensor()\n",
    "])"
   ]
  },
  {
   "cell_type": "code",
   "execution_count": null,
   "metadata": {},
   "outputs": [
    {
     "name": "stdout",
     "output_type": "stream",
     "text": [
      "Processing tutorials/image_demo/1#Accessories#1#Bag#3811492306_4ae60c73b6_o.jpg ...\n"
     ]
    },
    {
     "name": "stderr",
     "output_type": "stream",
     "text": [
      "\n",
      "Compiling Operators(5/68) used: 2.31s eta: 29.1s 15/68) used: 3.32s eta: 11.7s 16/68) used: 4.32s eta:   14s 24/68) used: 5.33s eta: 9.77s 31/68) used: 6.33s eta: 7.56s 36/68) used: 7.34s eta: 6.52s 40/68) used: 8.34s eta: 5.84s 46/68) used: 9.34s eta: 4.47s 50/68) used: 10.3s eta: 3.73s 59/68) used: 11.4s eta: 1.73s 61/68) used: 12.4s eta: 1.42s 66/68) used: 13.4s eta: 0.405s 68/68) used: 14.4s eta:    0s \n"
     ]
    },
    {
     "name": "stdout",
     "output_type": "stream",
     "text": [
      "Processing tutorials/image_demo/2#Aircraft#1#Airplane#947427810_e51e389ce9_o.jpg ...\n",
      "Finished\n"
     ]
    }
   ],
   "source": [
    "import os\n",
    "from glob import glob\n",
    "\n",
    "src_dir = 'tutorials/image_demo'  # image path\n",
    "image_paths = glob(os.path.join(src_dir, '*'))\n",
    "dst_dir = 'tutorials/pred_demo'  # prediction path\n",
    "os.makedirs(dst_dir, exist_ok=True)\n",
    "for image_path in image_paths:\n",
    "    print('Processing {} ...'.format(image_path))\n",
    "    os.makedirs(os.path.join(image_path.replace(src_dir, dst_dir)), exist_ok=True)\n",
    "    image = Image.open(image_path)\n",
    "    # Prediction\n",
    "    for model_name in models:\n",
    "        with jt.no_grad():\n",
    "            if model_name == 'BiRefNet':\n",
    "                input_images = jt.array(mvanet_image(image)).unsqueeze(0)\n",
    "                preds = birefnet(input_images)[-1].sigmoid()\n",
    "                pred = preds.squeeze()\n",
    "                ma = jt.max(pred)\n",
    "                mi = jt.min(pred)\n",
    "                pred = (pred - mi) / (ma - mi) * 255\n",
    "                # Show Results\n",
    "                pred_pil = jt.transform.ToPILImage()(pred)\n",
    "                pred_pil.resize(image.size).convert('L').save(os.path.join(image_path.replace(src_dir, dst_dir), f'{model_name}.png'))\n",
    "            elif model_name == 'MVANet':\n",
    "                input_images = jt.array(mvanet_image(image)).unsqueeze(0)\n",
    "                preds = mvanet(input_images).sigmoid()\n",
    "                pred = preds.squeeze()\n",
    "                ma = jt.max(pred)\n",
    "                mi = jt.min(pred)\n",
    "                pred = (pred - mi) / (ma - mi) * 255\n",
    "                # Show Results\n",
    "                pred_pil = jt.transform.ToPILImage()(pred)\n",
    "                pred_pil.resize(image.size).convert('L').save(os.path.join(image_path.replace(src_dir, dst_dir), f'{model_name}.png'))\n",
    "            elif model_name == 'UDUN':\n",
    "                input_images = jt.array(udun_image(image)).unsqueeze(0)\n",
    "                preds = udun(input_images)[2].sigmoid()\n",
    "                pred = preds.squeeze()\n",
    "                ma = jt.max(pred)\n",
    "                mi = jt.min(pred)\n",
    "                pred = (pred - mi) / (ma - mi) * 255\n",
    "                # Show Results\n",
    "                pred_pil = jt.transform.ToPILImage()(pred)\n",
    "                pred_pil.resize(image.size).convert('L').save(os.path.join(image_path.replace(src_dir, dst_dir), f'{model_name}.png'))\n",
    "            elif model_name == 'ISNet':\n",
    "                input_images = jt.array(isnet_image(image)).unsqueeze(0)\n",
    "                preds = isnet(input_images)[0][0].sigmoid()\n",
    "                pred = preds.squeeze()\n",
    "                ma = jt.max(pred)\n",
    "                mi = jt.min(pred)\n",
    "                pred = (pred - mi) / (ma - mi) * 255\n",
    "                # Show Results\n",
    "                pred_pil = jt.transform.ToPILImage()(pred)\n",
    "                pred_pil.resize(image.size).convert('L').save(os.path.join(image_path.replace(src_dir, dst_dir), f'{model_name}.png'))\n",
    "print('Finished')"
   ]
  }
 ],
 "metadata": {
  "kernelspec": {
   "display_name": "jittor",
   "language": "python",
   "name": "python3"
  },
  "language_info": {
   "codemirror_mode": {
    "name": "ipython",
    "version": 3
   },
   "file_extension": ".py",
   "mimetype": "text/x-python",
   "name": "python",
   "nbconvert_exporter": "python",
   "pygments_lexer": "ipython3",
   "version": "3.7.12"
  }
 },
 "nbformat": 4,
 "nbformat_minor": 2
}
